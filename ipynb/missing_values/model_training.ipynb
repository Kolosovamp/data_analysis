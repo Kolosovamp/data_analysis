{
 "cells": [
  {
   "cell_type": "markdown",
   "id": "7ad4d79f",
   "metadata": {},
   "source": [
    "# Import Dataset"
   ]
  },
  {
   "cell_type": "code",
   "execution_count": 1,
   "id": "4a58d365",
   "metadata": {},
   "outputs": [],
   "source": [
    "import numpy as np\n",
    "import pandas as pd\n",
    "import matplotlib.pyplot as plt\n",
    "import seaborn as sns"
   ]
  },
  {
   "cell_type": "code",
   "execution_count": 2,
   "id": "07f075c6",
   "metadata": {},
   "outputs": [],
   "source": [
    "%matplotlib inline"
   ]
  },
  {
   "cell_type": "markdown",
   "id": "fb09e4b0",
   "metadata": {},
   "source": [
    "# Import Dataset"
   ]
  },
  {
   "cell_type": "code",
   "execution_count": 3,
   "id": "72c1b46d",
   "metadata": {},
   "outputs": [
    {
     "ename": "FileNotFoundError",
     "evalue": "[Errno 2] No such file or directory: 'train.csv'",
     "output_type": "error",
     "traceback": [
      "\u001b[0;31m---------------------------------------------------------------------------\u001b[0m",
      "\u001b[0;31mFileNotFoundError\u001b[0m                         Traceback (most recent call last)",
      "\u001b[0;32m<ipython-input-3-f1a1f2ce149f>\u001b[0m in \u001b[0;36m<module>\u001b[0;34m\u001b[0m\n\u001b[0;32m----> 1\u001b[0;31m \u001b[0mtrain\u001b[0m \u001b[0;34m=\u001b[0m \u001b[0mpd\u001b[0m\u001b[0;34m.\u001b[0m\u001b[0mread_csv\u001b[0m\u001b[0;34m(\u001b[0m\u001b[0;34m'train.csv'\u001b[0m\u001b[0;34m)\u001b[0m\u001b[0;34m\u001b[0m\u001b[0;34m\u001b[0m\u001b[0m\n\u001b[0m",
      "\u001b[0;32m~/opt/anaconda3/lib/python3.8/site-packages/pandas/io/parsers.py\u001b[0m in \u001b[0;36mread_csv\u001b[0;34m(filepath_or_buffer, sep, delimiter, header, names, index_col, usecols, squeeze, prefix, mangle_dupe_cols, dtype, engine, converters, true_values, false_values, skipinitialspace, skiprows, skipfooter, nrows, na_values, keep_default_na, na_filter, verbose, skip_blank_lines, parse_dates, infer_datetime_format, keep_date_col, date_parser, dayfirst, cache_dates, iterator, chunksize, compression, thousands, decimal, lineterminator, quotechar, quoting, doublequote, escapechar, comment, encoding, dialect, error_bad_lines, warn_bad_lines, delim_whitespace, low_memory, memory_map, float_precision, storage_options)\u001b[0m\n\u001b[1;32m    608\u001b[0m     \u001b[0mkwds\u001b[0m\u001b[0;34m.\u001b[0m\u001b[0mupdate\u001b[0m\u001b[0;34m(\u001b[0m\u001b[0mkwds_defaults\u001b[0m\u001b[0;34m)\u001b[0m\u001b[0;34m\u001b[0m\u001b[0;34m\u001b[0m\u001b[0m\n\u001b[1;32m    609\u001b[0m \u001b[0;34m\u001b[0m\u001b[0m\n\u001b[0;32m--> 610\u001b[0;31m     \u001b[0;32mreturn\u001b[0m \u001b[0m_read\u001b[0m\u001b[0;34m(\u001b[0m\u001b[0mfilepath_or_buffer\u001b[0m\u001b[0;34m,\u001b[0m \u001b[0mkwds\u001b[0m\u001b[0;34m)\u001b[0m\u001b[0;34m\u001b[0m\u001b[0;34m\u001b[0m\u001b[0m\n\u001b[0m\u001b[1;32m    611\u001b[0m \u001b[0;34m\u001b[0m\u001b[0m\n\u001b[1;32m    612\u001b[0m \u001b[0;34m\u001b[0m\u001b[0m\n",
      "\u001b[0;32m~/opt/anaconda3/lib/python3.8/site-packages/pandas/io/parsers.py\u001b[0m in \u001b[0;36m_read\u001b[0;34m(filepath_or_buffer, kwds)\u001b[0m\n\u001b[1;32m    460\u001b[0m \u001b[0;34m\u001b[0m\u001b[0m\n\u001b[1;32m    461\u001b[0m     \u001b[0;31m# Create the parser.\u001b[0m\u001b[0;34m\u001b[0m\u001b[0;34m\u001b[0m\u001b[0;34m\u001b[0m\u001b[0m\n\u001b[0;32m--> 462\u001b[0;31m     \u001b[0mparser\u001b[0m \u001b[0;34m=\u001b[0m \u001b[0mTextFileReader\u001b[0m\u001b[0;34m(\u001b[0m\u001b[0mfilepath_or_buffer\u001b[0m\u001b[0;34m,\u001b[0m \u001b[0;34m**\u001b[0m\u001b[0mkwds\u001b[0m\u001b[0;34m)\u001b[0m\u001b[0;34m\u001b[0m\u001b[0;34m\u001b[0m\u001b[0m\n\u001b[0m\u001b[1;32m    463\u001b[0m \u001b[0;34m\u001b[0m\u001b[0m\n\u001b[1;32m    464\u001b[0m     \u001b[0;32mif\u001b[0m \u001b[0mchunksize\u001b[0m \u001b[0;32mor\u001b[0m \u001b[0miterator\u001b[0m\u001b[0;34m:\u001b[0m\u001b[0;34m\u001b[0m\u001b[0;34m\u001b[0m\u001b[0m\n",
      "\u001b[0;32m~/opt/anaconda3/lib/python3.8/site-packages/pandas/io/parsers.py\u001b[0m in \u001b[0;36m__init__\u001b[0;34m(self, f, engine, **kwds)\u001b[0m\n\u001b[1;32m    817\u001b[0m             \u001b[0mself\u001b[0m\u001b[0;34m.\u001b[0m\u001b[0moptions\u001b[0m\u001b[0;34m[\u001b[0m\u001b[0;34m\"has_index_names\"\u001b[0m\u001b[0;34m]\u001b[0m \u001b[0;34m=\u001b[0m \u001b[0mkwds\u001b[0m\u001b[0;34m[\u001b[0m\u001b[0;34m\"has_index_names\"\u001b[0m\u001b[0;34m]\u001b[0m\u001b[0;34m\u001b[0m\u001b[0;34m\u001b[0m\u001b[0m\n\u001b[1;32m    818\u001b[0m \u001b[0;34m\u001b[0m\u001b[0m\n\u001b[0;32m--> 819\u001b[0;31m         \u001b[0mself\u001b[0m\u001b[0;34m.\u001b[0m\u001b[0m_engine\u001b[0m \u001b[0;34m=\u001b[0m \u001b[0mself\u001b[0m\u001b[0;34m.\u001b[0m\u001b[0m_make_engine\u001b[0m\u001b[0;34m(\u001b[0m\u001b[0mself\u001b[0m\u001b[0;34m.\u001b[0m\u001b[0mengine\u001b[0m\u001b[0;34m)\u001b[0m\u001b[0;34m\u001b[0m\u001b[0;34m\u001b[0m\u001b[0m\n\u001b[0m\u001b[1;32m    820\u001b[0m \u001b[0;34m\u001b[0m\u001b[0m\n\u001b[1;32m    821\u001b[0m     \u001b[0;32mdef\u001b[0m \u001b[0mclose\u001b[0m\u001b[0;34m(\u001b[0m\u001b[0mself\u001b[0m\u001b[0;34m)\u001b[0m\u001b[0;34m:\u001b[0m\u001b[0;34m\u001b[0m\u001b[0;34m\u001b[0m\u001b[0m\n",
      "\u001b[0;32m~/opt/anaconda3/lib/python3.8/site-packages/pandas/io/parsers.py\u001b[0m in \u001b[0;36m_make_engine\u001b[0;34m(self, engine)\u001b[0m\n\u001b[1;32m   1048\u001b[0m             )\n\u001b[1;32m   1049\u001b[0m         \u001b[0;31m# error: Too many arguments for \"ParserBase\"\u001b[0m\u001b[0;34m\u001b[0m\u001b[0;34m\u001b[0m\u001b[0;34m\u001b[0m\u001b[0m\n\u001b[0;32m-> 1050\u001b[0;31m         \u001b[0;32mreturn\u001b[0m \u001b[0mmapping\u001b[0m\u001b[0;34m[\u001b[0m\u001b[0mengine\u001b[0m\u001b[0;34m]\u001b[0m\u001b[0;34m(\u001b[0m\u001b[0mself\u001b[0m\u001b[0;34m.\u001b[0m\u001b[0mf\u001b[0m\u001b[0;34m,\u001b[0m \u001b[0;34m**\u001b[0m\u001b[0mself\u001b[0m\u001b[0;34m.\u001b[0m\u001b[0moptions\u001b[0m\u001b[0;34m)\u001b[0m  \u001b[0;31m# type: ignore[call-arg]\u001b[0m\u001b[0;34m\u001b[0m\u001b[0;34m\u001b[0m\u001b[0m\n\u001b[0m\u001b[1;32m   1051\u001b[0m \u001b[0;34m\u001b[0m\u001b[0m\n\u001b[1;32m   1052\u001b[0m     \u001b[0;32mdef\u001b[0m \u001b[0m_failover_to_python\u001b[0m\u001b[0;34m(\u001b[0m\u001b[0mself\u001b[0m\u001b[0;34m)\u001b[0m\u001b[0;34m:\u001b[0m\u001b[0;34m\u001b[0m\u001b[0;34m\u001b[0m\u001b[0m\n",
      "\u001b[0;32m~/opt/anaconda3/lib/python3.8/site-packages/pandas/io/parsers.py\u001b[0m in \u001b[0;36m__init__\u001b[0;34m(self, src, **kwds)\u001b[0m\n\u001b[1;32m   1865\u001b[0m \u001b[0;34m\u001b[0m\u001b[0m\n\u001b[1;32m   1866\u001b[0m         \u001b[0;31m# open handles\u001b[0m\u001b[0;34m\u001b[0m\u001b[0;34m\u001b[0m\u001b[0;34m\u001b[0m\u001b[0m\n\u001b[0;32m-> 1867\u001b[0;31m         \u001b[0mself\u001b[0m\u001b[0;34m.\u001b[0m\u001b[0m_open_handles\u001b[0m\u001b[0;34m(\u001b[0m\u001b[0msrc\u001b[0m\u001b[0;34m,\u001b[0m \u001b[0mkwds\u001b[0m\u001b[0;34m)\u001b[0m\u001b[0;34m\u001b[0m\u001b[0;34m\u001b[0m\u001b[0m\n\u001b[0m\u001b[1;32m   1868\u001b[0m         \u001b[0;32massert\u001b[0m \u001b[0mself\u001b[0m\u001b[0;34m.\u001b[0m\u001b[0mhandles\u001b[0m \u001b[0;32mis\u001b[0m \u001b[0;32mnot\u001b[0m \u001b[0;32mNone\u001b[0m\u001b[0;34m\u001b[0m\u001b[0;34m\u001b[0m\u001b[0m\n\u001b[1;32m   1869\u001b[0m         \u001b[0;32mfor\u001b[0m \u001b[0mkey\u001b[0m \u001b[0;32min\u001b[0m \u001b[0;34m(\u001b[0m\u001b[0;34m\"storage_options\"\u001b[0m\u001b[0;34m,\u001b[0m \u001b[0;34m\"encoding\"\u001b[0m\u001b[0;34m,\u001b[0m \u001b[0;34m\"memory_map\"\u001b[0m\u001b[0;34m,\u001b[0m \u001b[0;34m\"compression\"\u001b[0m\u001b[0;34m)\u001b[0m\u001b[0;34m:\u001b[0m\u001b[0;34m\u001b[0m\u001b[0;34m\u001b[0m\u001b[0m\n",
      "\u001b[0;32m~/opt/anaconda3/lib/python3.8/site-packages/pandas/io/parsers.py\u001b[0m in \u001b[0;36m_open_handles\u001b[0;34m(self, src, kwds)\u001b[0m\n\u001b[1;32m   1360\u001b[0m         \u001b[0mLet\u001b[0m \u001b[0mthe\u001b[0m \u001b[0mreaders\u001b[0m \u001b[0mopen\u001b[0m \u001b[0mIOHanldes\u001b[0m \u001b[0mafter\u001b[0m \u001b[0mthey\u001b[0m \u001b[0mare\u001b[0m \u001b[0mdone\u001b[0m \u001b[0;32mwith\u001b[0m \u001b[0mtheir\u001b[0m \u001b[0mpotential\u001b[0m \u001b[0mraises\u001b[0m\u001b[0;34m.\u001b[0m\u001b[0;34m\u001b[0m\u001b[0;34m\u001b[0m\u001b[0m\n\u001b[1;32m   1361\u001b[0m         \"\"\"\n\u001b[0;32m-> 1362\u001b[0;31m         self.handles = get_handle(\n\u001b[0m\u001b[1;32m   1363\u001b[0m             \u001b[0msrc\u001b[0m\u001b[0;34m,\u001b[0m\u001b[0;34m\u001b[0m\u001b[0;34m\u001b[0m\u001b[0m\n\u001b[1;32m   1364\u001b[0m             \u001b[0;34m\"r\"\u001b[0m\u001b[0;34m,\u001b[0m\u001b[0;34m\u001b[0m\u001b[0;34m\u001b[0m\u001b[0m\n",
      "\u001b[0;32m~/opt/anaconda3/lib/python3.8/site-packages/pandas/io/common.py\u001b[0m in \u001b[0;36mget_handle\u001b[0;34m(path_or_buf, mode, encoding, compression, memory_map, is_text, errors, storage_options)\u001b[0m\n\u001b[1;32m    640\u001b[0m                 \u001b[0merrors\u001b[0m \u001b[0;34m=\u001b[0m \u001b[0;34m\"replace\"\u001b[0m\u001b[0;34m\u001b[0m\u001b[0;34m\u001b[0m\u001b[0m\n\u001b[1;32m    641\u001b[0m             \u001b[0;31m# Encoding\u001b[0m\u001b[0;34m\u001b[0m\u001b[0;34m\u001b[0m\u001b[0;34m\u001b[0m\u001b[0m\n\u001b[0;32m--> 642\u001b[0;31m             handle = open(\n\u001b[0m\u001b[1;32m    643\u001b[0m                 \u001b[0mhandle\u001b[0m\u001b[0;34m,\u001b[0m\u001b[0;34m\u001b[0m\u001b[0;34m\u001b[0m\u001b[0m\n\u001b[1;32m    644\u001b[0m                 \u001b[0mioargs\u001b[0m\u001b[0;34m.\u001b[0m\u001b[0mmode\u001b[0m\u001b[0;34m,\u001b[0m\u001b[0;34m\u001b[0m\u001b[0;34m\u001b[0m\u001b[0m\n",
      "\u001b[0;31mFileNotFoundError\u001b[0m: [Errno 2] No such file or directory: 'train.csv'"
     ]
    }
   ],
   "source": [
    "train = pd.read_csv('train.csv')"
   ]
  },
  {
   "cell_type": "code",
   "execution_count": null,
   "id": "9790af87",
   "metadata": {},
   "outputs": [],
   "source": [
    "train.head(5)"
   ]
  },
  {
   "cell_type": "code",
   "execution_count": null,
   "id": "485d2fd1",
   "metadata": {},
   "outputs": [],
   "source": [
    "train.set_index('PassengerId', inplace=True)"
   ]
  },
  {
   "cell_type": "code",
   "execution_count": null,
   "id": "773d1b52",
   "metadata": {},
   "outputs": [],
   "source": [
    "train.info()"
   ]
  },
  {
   "cell_type": "code",
   "execution_count": null,
   "id": "55647cc2",
   "metadata": {},
   "outputs": [],
   "source": [
    "train.describe()"
   ]
  },
  {
   "cell_type": "markdown",
   "id": "7014d152",
   "metadata": {},
   "source": [
    "# Handling Missing Values"
   ]
  },
  {
   "cell_type": "code",
   "execution_count": null,
   "id": "71e26dd9",
   "metadata": {},
   "outputs": [],
   "source": [
    "plt.figure(figsize=(12,7))\n",
    "sns.heatmap(train.isnull())"
   ]
  },
  {
   "cell_type": "code",
   "execution_count": null,
   "id": "abad2adb",
   "metadata": {},
   "outputs": [],
   "source": [
    "train.isnull().sum()"
   ]
  },
  {
   "cell_type": "code",
   "execution_count": null,
   "id": "1c0d8138",
   "metadata": {},
   "outputs": [],
   "source": [
    "categorical_columns = [col for col in train.columns if train[col].dtype == 'O']\n",
    "numerical_columns = [col for col in train.columns if train[col].dtype != 'O']"
   ]
  },
  {
   "cell_type": "code",
   "execution_count": null,
   "id": "d8f705e7",
   "metadata": {},
   "outputs": [],
   "source": [
    "categorical_with_na = [col for col in categorical_columns if train[col].isnull().sum() > 0]\n",
    "numerical_with_na = [col for col in numerical_columns if train[col].isnull().sum() > 0]"
   ]
  },
  {
   "cell_type": "code",
   "execution_count": null,
   "id": "3d0ef865",
   "metadata": {},
   "outputs": [],
   "source": [
    "numerical_with_na"
   ]
  },
  {
   "cell_type": "code",
   "execution_count": null,
   "id": "57447488",
   "metadata": {},
   "outputs": [],
   "source": [
    "categorical_with_na"
   ]
  },
  {
   "cell_type": "code",
   "execution_count": null,
   "id": "48106c86",
   "metadata": {},
   "outputs": [],
   "source": [
    "sns.pairplot(train)"
   ]
  },
  {
   "cell_type": "markdown",
   "id": "e59cd4d0",
   "metadata": {},
   "source": [
    "## 1) Drop row / column"
   ]
  },
  {
   "cell_type": "code",
   "execution_count": null,
   "id": "6d411e52",
   "metadata": {},
   "outputs": [],
   "source": [
    "train_drop = train.copy()"
   ]
  },
  {
   "cell_type": "code",
   "execution_count": null,
   "id": "ad262221",
   "metadata": {},
   "outputs": [],
   "source": [
    "train_drop.Embarked.dropna(axis=0, inplace=True) # column Embarked has only 2 rows with missing values"
   ]
  },
  {
   "cell_type": "code",
   "execution_count": null,
   "id": "db9b5972",
   "metadata": {},
   "outputs": [],
   "source": [
    "train_drop.drop(['Cabin'], axis=1, inplace=True) # column Cabin has more than 70% data missing"
   ]
  },
  {
   "cell_type": "markdown",
   "id": "f1498304",
   "metadata": {},
   "source": [
    "## 2) Mean/Median Imputation"
   ]
  },
  {
   "cell_type": "code",
   "execution_count": null,
   "id": "7cd0128e",
   "metadata": {},
   "outputs": [],
   "source": [
    "train['Age'].mean()"
   ]
  },
  {
   "cell_type": "code",
   "execution_count": null,
   "id": "ef283f04",
   "metadata": {},
   "outputs": [],
   "source": [
    "fig, axes = plt.subplots(1,1, figsize=(7, 7))\n",
    "sns.set_style('whitegrid')\n",
    "sns.kdeplot(train.Age)"
   ]
  },
  {
   "cell_type": "code",
   "execution_count": null,
   "id": "130f6905",
   "metadata": {},
   "outputs": [],
   "source": [
    "train_mean = train.copy()\n",
    "train_mean['Age'] = train.Age.fillna(train.Age.mean())"
   ]
  },
  {
   "cell_type": "code",
   "execution_count": null,
   "id": "fee765d7",
   "metadata": {},
   "outputs": [],
   "source": [
    "train_mode = train.copy()\n",
    "train_mode['Age'] = train.Age.fillna(train.Age.median())"
   ]
  },
  {
   "cell_type": "code",
   "execution_count": null,
   "id": "124ae028",
   "metadata": {},
   "outputs": [],
   "source": [
    "fig, axes = plt.subplots(1,1, figsize=(7, 7))\n",
    "sns.set_style('whitegrid')\n",
    "sns.kdeplot(train.Age, label='Original')\n",
    "sns.kdeplot(train_mean.Age, label='Mean')\n",
    "sns.kdeplot(train_mode.Age, label='Median')\n",
    "axes.legend()"
   ]
  },
  {
   "cell_type": "markdown",
   "id": "3f4914bc",
   "metadata": {},
   "source": [
    "## 3) Most Frequent Imputation"
   ]
  },
  {
   "cell_type": "code",
   "execution_count": null,
   "id": "8a0af2f7",
   "metadata": {},
   "outputs": [],
   "source": [
    "train['Embarked'].unique()"
   ]
  },
  {
   "cell_type": "code",
   "execution_count": null,
   "id": "fa4599a8",
   "metadata": {},
   "outputs": [],
   "source": [
    "sns.countplot(x='Embarked', data=train)"
   ]
  },
  {
   "cell_type": "code",
   "execution_count": null,
   "id": "d9d71eb4",
   "metadata": {},
   "outputs": [],
   "source": [
    "train_frequent = train.copy()"
   ]
  },
  {
   "cell_type": "code",
   "execution_count": null,
   "id": "69f6dbf7",
   "metadata": {},
   "outputs": [],
   "source": [
    "train_frequent.Embarked.fillna('S', inplace=True)"
   ]
  },
  {
   "cell_type": "markdown",
   "id": "fe4919c3",
   "metadata": {},
   "source": [
    "## 4) Unknown Value Imputation"
   ]
  },
  {
   "cell_type": "code",
   "execution_count": null,
   "id": "f53fac6b",
   "metadata": {},
   "outputs": [],
   "source": [
    "train_unknown = train.copy()"
   ]
  },
  {
   "cell_type": "code",
   "execution_count": null,
   "id": "42e8b044",
   "metadata": {},
   "outputs": [],
   "source": [
    "train_unknown.Cabin.unique()"
   ]
  },
  {
   "cell_type": "code",
   "execution_count": null,
   "id": "c6e906fc",
   "metadata": {},
   "outputs": [],
   "source": [
    "train_unknown.Cabin.fillna('U', inplace=True)\n",
    "# train_unknown.Cabin = train_unknown.apply(replace_with_k, axis=1)\n",
    "train_unknown.Cabin = np.where(train_unknown.Cabin != 'U', 'K', 'U')"
   ]
  },
  {
   "cell_type": "code",
   "execution_count": null,
   "id": "9196e9ab",
   "metadata": {},
   "outputs": [],
   "source": [
    "train_unknown.Cabin.value_counts()"
   ]
  },
  {
   "cell_type": "code",
   "execution_count": null,
   "id": "93d38668",
   "metadata": {},
   "outputs": [],
   "source": [
    "fig = plt.figure(figsize=(12,7))\n",
    "sns.countplot(x='Survived', data=train_unknown, hue='Cabin')"
   ]
  },
  {
   "cell_type": "markdown",
   "id": "841feda1",
   "metadata": {},
   "source": [
    "##### Note:  After replacing know values with 'K' and unknown values with 'U' we can see that more people that didnt survive have unknown cabin type"
   ]
  },
  {
   "cell_type": "markdown",
   "id": "0f6ae631",
   "metadata": {},
   "source": [
    "### 5) Prediction of Missing Values"
   ]
  },
  {
   "cell_type": "code",
   "execution_count": null,
   "id": "81f8a1b8",
   "metadata": {},
   "outputs": [],
   "source": [
    "train.columns"
   ]
  },
  {
   "cell_type": "code",
   "execution_count": null,
   "id": "f8fa83be",
   "metadata": {},
   "outputs": [],
   "source": [
    "X_train_age = train[['Pclass', 'Name', 'Sex', 'SibSp', 'Parch', 'Ticket','Fare', 'Cabin','Embarked', 'Age']].copy()\n",
    "y_train_age = train[['Age']].copy()"
   ]
  },
  {
   "cell_type": "code",
   "execution_count": null,
   "id": "60a3b72e",
   "metadata": {},
   "outputs": [],
   "source": [
    "for column in X_train_age:\n",
    "    if X_train_age[column].isnull().sum() > 0 and column != 'Age':\n",
    "        X_train_age.drop([column], axis=1, inplace=True)"
   ]
  },
  {
   "cell_type": "code",
   "execution_count": null,
   "id": "09269d14",
   "metadata": {},
   "outputs": [],
   "source": [
    "X_train_age.dropna(axis=0, inplace=True)\n",
    "X_train_age.drop(['Age'], axis=1, inplace=True)"
   ]
  },
  {
   "cell_type": "code",
   "execution_count": null,
   "id": "e660b9cd",
   "metadata": {},
   "outputs": [],
   "source": [
    "y_train_age.dropna(axis=0, inplace=True)"
   ]
  },
  {
   "cell_type": "code",
   "execution_count": null,
   "id": "6a54181b",
   "metadata": {},
   "outputs": [],
   "source": [
    "X_train_age.shape"
   ]
  },
  {
   "cell_type": "code",
   "execution_count": null,
   "id": "04783e6b",
   "metadata": {},
   "outputs": [],
   "source": [
    "y_train_age.shape"
   ]
  },
  {
   "cell_type": "code",
   "execution_count": null,
   "id": "501fd67a",
   "metadata": {},
   "outputs": [],
   "source": [
    "X_train_age.drop(['Name', 'Ticket'], axis=1, inplace=True)"
   ]
  },
  {
   "cell_type": "code",
   "execution_count": null,
   "id": "562be039",
   "metadata": {},
   "outputs": [],
   "source": [
    "y_pred = train.loc[train.Age.isnull(), X_train_age.columns]"
   ]
  },
  {
   "cell_type": "code",
   "execution_count": null,
   "id": "0bfe60b0",
   "metadata": {},
   "outputs": [],
   "source": [
    "X_train_age"
   ]
  },
  {
   "cell_type": "code",
   "execution_count": null,
   "id": "1cb6a69e",
   "metadata": {},
   "outputs": [],
   "source": [
    "from sklearn.preprocessing import OneHotEncoder\n",
    "from sklearn.compose import ColumnTransformer\n",
    "\n",
    "ct = ColumnTransformer(transformers=[('encoder', OneHotEncoder(drop='first'), ['Sex'])], remainder='passthrough')\n",
    "\n",
    "X_train_age = ct.fit_transform(X_train_age)\n",
    "\n",
    "y_pred = ct.transform(y_pred)"
   ]
  },
  {
   "cell_type": "code",
   "execution_count": null,
   "id": "fac406a1",
   "metadata": {},
   "outputs": [],
   "source": [
    "from sklearn.preprocessing import StandardScaler\n",
    "\n",
    "scaler = StandardScaler()\n",
    "y_scaler = StandardScaler()\n",
    "\n",
    "X_train_age[:, 1:] = scaler.fit_transform(X_train_age[:, 1:])\n",
    "y_pred[:, 1:] = scaler.fit_transform(y_pred[:, 1:])\n",
    "\n",
    "y_train_age = y_scaler.fit_transform(y_train_age)"
   ]
  },
  {
   "cell_type": "code",
   "execution_count": null,
   "id": "2d2182ab",
   "metadata": {},
   "outputs": [],
   "source": [
    "import xgboost as xgb\n",
    "\n",
    "age_regressor = xgb.XGBRegressor()"
   ]
  },
  {
   "cell_type": "code",
   "execution_count": null,
   "id": "c7448e20",
   "metadata": {},
   "outputs": [],
   "source": [
    "age_regressor.fit(X_train_age, y_train_age)"
   ]
  },
  {
   "cell_type": "code",
   "execution_count": null,
   "id": "856a70ca",
   "metadata": {},
   "outputs": [],
   "source": [
    "null_age = y_scaler.inverse_transform(age_regressor.predict(y_pred))"
   ]
  },
  {
   "cell_type": "code",
   "execution_count": null,
   "id": "efa54db2",
   "metadata": {},
   "outputs": [],
   "source": [
    "train_pred_age = train.copy()    "
   ]
  },
  {
   "cell_type": "code",
   "execution_count": null,
   "id": "bb6a2a4b",
   "metadata": {
    "scrolled": true
   },
   "outputs": [],
   "source": [
    "null_age_id = train.loc[train.Age.isnull(), :].index\n",
    "train_pred_age.loc[train.loc[train.Age.isnull(), :].index, 'Age'] = null_age"
   ]
  },
  {
   "cell_type": "code",
   "execution_count": null,
   "id": "b5903721",
   "metadata": {},
   "outputs": [],
   "source": [
    "fig, axes = plt.subplots(1,1, figsize=(7, 7))\n",
    "sns.set_style('whitegrid')\n",
    "sns.kdeplot(train.Age, label='Original')\n",
    "sns.kdeplot(train_pred_age.Age, label='Prediction')\n",
    "axes.legend()"
   ]
  },
  {
   "cell_type": "code",
   "execution_count": null,
   "id": "d649c859",
   "metadata": {},
   "outputs": [],
   "source": [
    "train.fillna(method=)"
   ]
  },
  {
   "cell_type": "markdown",
   "id": "cf73feea",
   "metadata": {},
   "source": [
    "## Actual Problem Solving"
   ]
  },
  {
   "cell_type": "code",
   "execution_count": null,
   "id": "7b30c4e0",
   "metadata": {},
   "outputs": [],
   "source": [
    "train = pd.read_csv('train.csv')\n",
    "test = pd.read_csv('test.csv')"
   ]
  },
  {
   "cell_type": "code",
   "execution_count": null,
   "id": "a2841e92",
   "metadata": {},
   "outputs": [],
   "source": [
    "train.set_index('PassengerId', inplace=True)\n",
    "test.set_index('PassengerId', inplace=True)"
   ]
  },
  {
   "cell_type": "code",
   "execution_count": null,
   "id": "83616803",
   "metadata": {},
   "outputs": [],
   "source": [
    "train.drop(['Name', 'Ticket'], axis=1, inplace=True)\n",
    "test.drop(['Name', 'Ticket'], axis=1, inplace=True)"
   ]
  },
  {
   "cell_type": "code",
   "execution_count": null,
   "id": "7f9de849",
   "metadata": {},
   "outputs": [],
   "source": [
    "plt.figure(figsize=(12,7))\n",
    "sns.heatmap(train.isnull())"
   ]
  },
  {
   "cell_type": "code",
   "execution_count": null,
   "id": "b7be1a0c",
   "metadata": {},
   "outputs": [],
   "source": [
    "plt.figure(figsize=(12,7))\n",
    "sns.heatmap(test.isnull())"
   ]
  },
  {
   "cell_type": "markdown",
   "id": "12d0107e",
   "metadata": {},
   "source": [
    "### Embarked"
   ]
  },
  {
   "cell_type": "code",
   "execution_count": null,
   "id": "c379c304",
   "metadata": {},
   "outputs": [],
   "source": [
    "train.Embarked.fillna('S', inplace=True)"
   ]
  },
  {
   "cell_type": "markdown",
   "id": "90127eaf",
   "metadata": {},
   "source": [
    "### Fare"
   ]
  },
  {
   "cell_type": "code",
   "execution_count": null,
   "id": "44b948e5",
   "metadata": {},
   "outputs": [],
   "source": [
    "test.Fare.fillna(np.mean(test.Fare), inplace=True)"
   ]
  },
  {
   "cell_type": "markdown",
   "id": "4a25145c",
   "metadata": {},
   "source": [
    "### Cabin"
   ]
  },
  {
   "cell_type": "code",
   "execution_count": null,
   "id": "80181c94",
   "metadata": {},
   "outputs": [],
   "source": [
    "train.drop(['Cabin'], axis=1, inplace=True)\n",
    "test.drop(['Cabin'], axis=1, inplace=True)"
   ]
  },
  {
   "cell_type": "code",
   "execution_count": null,
   "id": "741436bd",
   "metadata": {},
   "outputs": [],
   "source": []
  },
  {
   "cell_type": "code",
   "execution_count": null,
   "id": "5698fcc2",
   "metadata": {},
   "outputs": [],
   "source": [
    "train.Cabin.fillna('U', inplace=True)\n",
    "train.Cabin = np.where(train.Cabin != 'U', 'K', 'U')"
   ]
  },
  {
   "cell_type": "code",
   "execution_count": null,
   "id": "c8db5f52",
   "metadata": {},
   "outputs": [],
   "source": [
    "test.Cabin.fillna('U', inplace=True)\n",
    "test.Cabin = np.where(test.Cabin != 'U', 'K', 'U')"
   ]
  },
  {
   "cell_type": "markdown",
   "id": "c2c5edc1",
   "metadata": {},
   "source": [
    "### Age"
   ]
  },
  {
   "cell_type": "code",
   "execution_count": null,
   "id": "f72dd8c6",
   "metadata": {},
   "outputs": [],
   "source": [
    "train.Age.fillna(train.Age.mean(), inplace=True)\n",
    "test.Age.fillna(test.Age.mean(), inplace=True)"
   ]
  },
  {
   "cell_type": "code",
   "execution_count": null,
   "id": "b7942651",
   "metadata": {},
   "outputs": [],
   "source": []
  },
  {
   "cell_type": "code",
   "execution_count": null,
   "id": "3e852202",
   "metadata": {},
   "outputs": [],
   "source": [
    "column = ['Pclass', 'Sex', 'SibSp', 'Parch','Fare', 'Cabin','Embarked', 'Age']"
   ]
  },
  {
   "cell_type": "code",
   "execution_count": null,
   "id": "30eb8acd",
   "metadata": {},
   "outputs": [],
   "source": [
    "X_train_age = train[['Pclass', 'Sex', 'SibSp', 'Parch','Fare', 'Cabin','Embarked', 'Age']].copy()\n",
    "y_train_age = train[['Age']].copy()\n",
    "X_test_train_age = test[['Pclass', 'Sex', 'SibSp', 'Parch','Fare', 'Cabin','Embarked', 'Age']].copy()\n",
    "y_test_train_age = test[['Age']].copy()"
   ]
  },
  {
   "cell_type": "code",
   "execution_count": null,
   "id": "842f330b",
   "metadata": {},
   "outputs": [],
   "source": [
    "for column in X_train_age:\n",
    "    if X_train_age[column].isnull().sum() > 0 and column != 'Age':\n",
    "        X_train_age.drop([column], axis=1, inplace=True)\n",
    "\n",
    "for column in X_test_train_age:\n",
    "    if X_test_train_age[column].isnull().sum() > 0 and column != 'Age':\n",
    "        X_test_train_age.drop([column], axis=1, inplace=True)"
   ]
  },
  {
   "cell_type": "code",
   "execution_count": null,
   "id": "cbb2cf99",
   "metadata": {},
   "outputs": [],
   "source": [
    "X_train_age.dropna(axis=0, inplace=True)\n",
    "X_train_age.drop(['Age'], axis=1, inplace=True)\n",
    "\n",
    "X_test_train_age.dropna(axis=0, inplace=True)\n",
    "X_test_train_age.drop(['Age'], axis=1, inplace=True)"
   ]
  },
  {
   "cell_type": "code",
   "execution_count": null,
   "id": "6ce93b61",
   "metadata": {},
   "outputs": [],
   "source": [
    "y_train_age.dropna(axis=0, inplace=True)\n",
    "y_test_train_age.dropna(axis=0, inplace=True)"
   ]
  },
  {
   "cell_type": "code",
   "execution_count": null,
   "id": "19a05ca8",
   "metadata": {},
   "outputs": [],
   "source": [
    "age_X_train = pd.concat([X_train_age, X_test_train_age])"
   ]
  },
  {
   "cell_type": "code",
   "execution_count": null,
   "id": "0ca2e21a",
   "metadata": {},
   "outputs": [],
   "source": [
    "age_y_train = pd.concat([y_train_age, y_test_train_age])"
   ]
  },
  {
   "cell_type": "code",
   "execution_count": null,
   "id": "763db54e",
   "metadata": {},
   "outputs": [],
   "source": [
    "y_train_pred = train.loc[train.Age.isnull(), X_train_age.columns]\n",
    "y_test_pred = test.loc[test.Age.isnull(), X_test_train_age.columns]"
   ]
  },
  {
   "cell_type": "code",
   "execution_count": null,
   "id": "624b6a1e",
   "metadata": {},
   "outputs": [],
   "source": [
    "from sklearn.preprocessing import OneHotEncoder\n",
    "from sklearn.compose import ColumnTransformer\n",
    "\n",
    "age_ct = ColumnTransformer(transformers=[('encoder', OneHotEncoder(drop='first'), ['Sex', 'Cabin', 'Embarked'])], remainder='passthrough')\n",
    "\n",
    "age_X_train = age_ct.fit_transform(age_X_train)\n",
    "\n",
    "y_train_pred = age_ct.transform(y_train_pred)\n",
    "y_test_pred = age_ct.transform(y_test_pred)"
   ]
  },
  {
   "cell_type": "code",
   "execution_count": null,
   "id": "abd616dc",
   "metadata": {},
   "outputs": [],
   "source": [
    "from sklearn.preprocessing import StandardScaler\n",
    "\n",
    "age_scaler = StandardScaler()\n",
    "age_y_scaler = StandardScaler()\n",
    "\n",
    "age_X_train = age_scaler.fit_transform(age_X_train)\n",
    "y_test_pred = age_scaler.transform(y_test_pred)\n",
    "y_train_pred = age_scaler.transform(y_train_pred)\n",
    "\n",
    "age_y_train = age_y_scaler.fit_transform(age_y_train)"
   ]
  },
  {
   "cell_type": "code",
   "execution_count": null,
   "id": "2775445f",
   "metadata": {},
   "outputs": [],
   "source": [
    "import xgboost as xgb\n",
    "\n",
    "age_regressor = xgb.XGBRegressor()"
   ]
  },
  {
   "cell_type": "code",
   "execution_count": null,
   "id": "1a7e82ac",
   "metadata": {},
   "outputs": [],
   "source": [
    "age_regressor.fit(age_X_train, age_y_train)"
   ]
  },
  {
   "cell_type": "code",
   "execution_count": null,
   "id": "a1e26956",
   "metadata": {},
   "outputs": [],
   "source": [
    "train.loc[train.loc[train.Age.isnull(), :].index, 'Age'] =  age_y_scaler.inverse_transform(age_regressor.predict(y_train_pred))\n",
    "test.loc[test.loc[test.Age.isnull(), :].index, 'Age'] =  age_y_scaler.inverse_transform(age_regressor.predict(y_test_pred))"
   ]
  },
  {
   "cell_type": "markdown",
   "id": "5f17b342",
   "metadata": {},
   "source": [
    "## One hot Encoding"
   ]
  },
  {
   "cell_type": "code",
   "execution_count": null,
   "id": "01d96d31",
   "metadata": {},
   "outputs": [],
   "source": [
    "X_train = train.drop(['Survived'], axis=1).copy()\n",
    "y_train = train['Survived'].copy()"
   ]
  },
  {
   "cell_type": "code",
   "execution_count": null,
   "id": "d459f411",
   "metadata": {},
   "outputs": [],
   "source": [
    "X_test = test.copy()"
   ]
  },
  {
   "cell_type": "code",
   "execution_count": null,
   "id": "c4eef463",
   "metadata": {},
   "outputs": [],
   "source": [
    "from sklearn.preprocessing import OneHotEncoder\n",
    "from sklearn.compose import ColumnTransformer\n",
    "\n",
    "ct = ColumnTransformer(transformers=[('encoder', OneHotEncoder(drop='first'), ['Sex', 'Embarked'])], remainder='passthrough')\n",
    "\n",
    "X_train = ct.fit_transform(X_train)\n",
    "X_test = ct.transform(X_test)"
   ]
  },
  {
   "cell_type": "markdown",
   "id": "4113407d",
   "metadata": {},
   "source": [
    "## Scaling"
   ]
  },
  {
   "cell_type": "code",
   "execution_count": null,
   "id": "02779b0c",
   "metadata": {},
   "outputs": [],
   "source": [
    "from sklearn.preprocessing import StandardScaler\n",
    "\n",
    "scaler = StandardScaler()\n",
    "\n",
    "X_train = scaler.fit_transform(X_train)\n",
    "X_test = scaler.transform(X_test)"
   ]
  },
  {
   "cell_type": "markdown",
   "id": "936eaa51",
   "metadata": {},
   "source": [
    "## Classification"
   ]
  },
  {
   "cell_type": "code",
   "execution_count": null,
   "id": "1433d242",
   "metadata": {},
   "outputs": [],
   "source": [
    "import xgboost as xgb\n",
    "\n",
    "classifier = xgb.XGBClassifier()"
   ]
  },
  {
   "cell_type": "code",
   "execution_count": null,
   "id": "54af8d2e",
   "metadata": {},
   "outputs": [],
   "source": [
    "classifier.fit(X_train, np.array(y_train))"
   ]
  },
  {
   "cell_type": "code",
   "execution_count": null,
   "id": "2a216963",
   "metadata": {},
   "outputs": [],
   "source": [
    "y_pred = classifier.predict(X_test)"
   ]
  },
  {
   "cell_type": "code",
   "execution_count": null,
   "id": "9dc13d0e",
   "metadata": {},
   "outputs": [],
   "source": [
    "output = pd.DataFrame({'PassengerId': test.index, 'Survived': y_pred})"
   ]
  },
  {
   "cell_type": "code",
   "execution_count": null,
   "id": "0cd8950a",
   "metadata": {},
   "outputs": [],
   "source": [
    "output.set_index('PassengerId', inplace=True)"
   ]
  },
  {
   "cell_type": "code",
   "execution_count": null,
   "id": "d8ddabe6",
   "metadata": {},
   "outputs": [],
   "source": [
    "import datetime\n",
    "ts = datetime.datetime.now().timestamp()\n",
    "output.to_csv('Output/' + str(ts) + '.csv')"
   ]
  },
  {
   "cell_type": "code",
   "execution_count": null,
   "id": "89e6bf60",
   "metadata": {},
   "outputs": [],
   "source": [
    "from sklearn.model_selection import train_test_split, GridSearchCV\n",
    "\n",
    "x_train_1, x_valid_1, y_train_1, y_valid_1 = train_test_split(X_train, \n",
    "                                                      np.array(y_train), \n",
    "                                                      test_size=.2, \n",
    "                                                      random_state=1)\n",
    "\n",
    "clf = xgb.XGBClassifier(random_state=1, verbosity=0, use_label_encoder=False)\n",
    "hyperparameters = {\n",
    "    'n_estimators': [1000],\n",
    "    'learning_rate': [.1],\n",
    "    'max_depth': [2, 3, 4, 8]\n",
    "                   }\n",
    "\n",
    "fit_params={'early_stopping_rounds':15, \n",
    "            'eval_metric': 'error', \n",
    "            'eval_set':[[x_valid_1, y_valid_1]]}\n",
    "\n",
    "gs = GridSearchCV(clf, param_grid=hyperparameters, verbose=0, cv=10)\n",
    "gs.fit(x_train_1, y_train_1, **fit_params, verbose=0)\n",
    "\n",
    "best_params = gs.best_params_\n",
    "best_score = gs.best_score_\n",
    "\n",
    "print(best_params) \n",
    "print(best_score)"
   ]
  },
  {
   "cell_type": "code",
   "execution_count": null,
   "id": "2021a036",
   "metadata": {},
   "outputs": [],
   "source": [
    "xgboost = xgb.XGBClassifier(random_state = 1, \n",
    "                            n_estimators = 1000, \n",
    "                            learning_rate = .1,\n",
    "                            verbosity = 0, \n",
    "                            use_label_encoder = False,\n",
    "                            objective = 'binary:logistic',\n",
    "                            max_depth = 4)"
   ]
  },
  {
   "cell_type": "code",
   "execution_count": null,
   "id": "8771ceac",
   "metadata": {},
   "outputs": [],
   "source": [
    "xgboost.fit(x_train_1, y_train_1, \n",
    "            early_stopping_rounds = 5, \n",
    "            eval_metric = 'error', \n",
    "            eval_set = [[x_valid_1, y_valid_1]], verbose = 0)"
   ]
  },
  {
   "cell_type": "code",
   "execution_count": null,
   "id": "95e673d5",
   "metadata": {},
   "outputs": [],
   "source": [
    "y_pred_2 = xgboost.predict(X_test)"
   ]
  },
  {
   "cell_type": "code",
   "execution_count": null,
   "id": "c75f745d",
   "metadata": {},
   "outputs": [],
   "source": [
    "output = pd.DataFrame({'PassengerId': test.index, 'Survived': y_pred})"
   ]
  },
  {
   "cell_type": "code",
   "execution_count": null,
   "id": "e1845b12",
   "metadata": {},
   "outputs": [],
   "source": [
    "output.set_index('PassengerId', inplace=True)"
   ]
  },
  {
   "cell_type": "code",
   "execution_count": null,
   "id": "9ac40032",
   "metadata": {},
   "outputs": [],
   "source": [
    "import datetime\n",
    "ts = datetime.datetime.now().timestamp()\n",
    "output.to_csv('Output/' + str(ts) + '.csv')"
   ]
  },
  {
   "cell_type": "code",
   "execution_count": null,
   "id": "a0afc3d5",
   "metadata": {},
   "outputs": [],
   "source": []
  },
  {
   "cell_type": "markdown",
   "id": "dfbc889a",
   "metadata": {},
   "source": [
    "# Other Ideas"
   ]
  },
  {
   "cell_type": "code",
   "execution_count": null,
   "id": "3d1d90fe",
   "metadata": {},
   "outputs": [],
   "source": [
    "train['Embarked'].unique()"
   ]
  },
  {
   "cell_type": "code",
   "execution_count": null,
   "id": "010daa9a",
   "metadata": {},
   "outputs": [],
   "source": [
    "def compute_age_category(row):\n",
    "    \n",
    "    age = row.Age\n",
    "    category = None\n",
    "    \n",
    "    if age < 10:\n",
    "        category = 'infant'\n",
    "    elif age < 20:\n",
    "        category = 'teen'\n",
    "    elif age < 55:\n",
    "        category = 'adult'\n",
    "    else:\n",
    "        category = 'old'\n",
    "    \n",
    "    return category"
   ]
  },
  {
   "cell_type": "code",
   "execution_count": null,
   "id": "a428ede5",
   "metadata": {},
   "outputs": [],
   "source": [
    "train_embarked = train_pred_age.copy()"
   ]
  },
  {
   "cell_type": "code",
   "execution_count": null,
   "id": "7b258efc",
   "metadata": {},
   "outputs": [],
   "source": [
    "train_embarked['Age_class'] = train_pred_age.apply(compute_age_category, axis=1)"
   ]
  },
  {
   "cell_type": "code",
   "execution_count": null,
   "id": "894abbd1",
   "metadata": {},
   "outputs": [],
   "source": [
    "sns.countplot(x='Embarked', data=train_embarked, hue='Age_class')"
   ]
  },
  {
   "cell_type": "code",
   "execution_count": null,
   "id": "35dfb550",
   "metadata": {},
   "outputs": [],
   "source": [
    "train_embarked[train_embarked.Embarked.isnull()]"
   ]
  },
  {
   "cell_type": "code",
   "execution_count": null,
   "id": "5ad5c299",
   "metadata": {},
   "outputs": [],
   "source": [
    "train_embarked.loc[62, 'Embarked'] = 'S'\n",
    "train_embarked.loc[830, 'Embarked'] = 'S'"
   ]
  },
  {
   "cell_type": "code",
   "execution_count": null,
   "id": "25a2fdc1",
   "metadata": {},
   "outputs": [],
   "source": [
    "sns.scatterplot(x='Fare', y='Fare', data=train_embarked, hue='Embarked')"
   ]
  },
  {
   "cell_type": "code",
   "execution_count": null,
   "id": "b72a075f",
   "metadata": {},
   "outputs": [],
   "source": [
    "train[(train_embarked.Fare > 65) & (train_embarked.Fare < 95)].groupby('Embarked').size()"
   ]
  },
  {
   "cell_type": "code",
   "execution_count": null,
   "id": "066fb12d",
   "metadata": {},
   "outputs": [],
   "source": [
    "train[(train_embarked.Fare > 79) & (train_embarked.Fare < 81)].groupby('Embarked').size()"
   ]
  }
 ],
 "metadata": {
  "kernelspec": {
   "display_name": "Python 3",
   "language": "python",
   "name": "python3"
  },
  "language_info": {
   "codemirror_mode": {
    "name": "ipython",
    "version": 3
   },
   "file_extension": ".py",
   "mimetype": "text/x-python",
   "name": "python",
   "nbconvert_exporter": "python",
   "pygments_lexer": "ipython3",
   "version": "3.8.8"
  }
 },
 "nbformat": 4,
 "nbformat_minor": 5
}
