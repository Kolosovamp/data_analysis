{
 "cells": [
  {
   "cell_type": "code",
   "execution_count": 139,
   "metadata": {},
   "outputs": [],
   "source": [
    "import pandas as pd\n",
    "import seaborn as sns\n",
    "import matplotlib.pyplot as plt\n",
    "import random"
   ]
  },
  {
   "cell_type": "code",
   "execution_count": 140,
   "metadata": {},
   "outputs": [],
   "source": [
    "df = pd.read_csv('https://stepik.org/media/attachments/lesson/8083/genetherapy.csv')"
   ]
  },
  {
   "cell_type": "code",
   "execution_count": 141,
   "metadata": {},
   "outputs": [
    {
     "data": {
      "text/html": [
       "<div>\n",
       "<style scoped>\n",
       "    .dataframe tbody tr th:only-of-type {\n",
       "        vertical-align: middle;\n",
       "    }\n",
       "\n",
       "    .dataframe tbody tr th {\n",
       "        vertical-align: top;\n",
       "    }\n",
       "\n",
       "    .dataframe thead th {\n",
       "        text-align: right;\n",
       "    }\n",
       "</style>\n",
       "<table border=\"1\" class=\"dataframe\">\n",
       "  <thead>\n",
       "    <tr style=\"text-align: right;\">\n",
       "      <th></th>\n",
       "      <th>expr</th>\n",
       "      <th>Therapy</th>\n",
       "    </tr>\n",
       "  </thead>\n",
       "  <tbody>\n",
       "    <tr>\n",
       "      <th>0</th>\n",
       "      <td>100</td>\n",
       "      <td>A</td>\n",
       "    </tr>\n",
       "    <tr>\n",
       "      <th>1</th>\n",
       "      <td>96</td>\n",
       "      <td>A</td>\n",
       "    </tr>\n",
       "    <tr>\n",
       "      <th>2</th>\n",
       "      <td>101</td>\n",
       "      <td>A</td>\n",
       "    </tr>\n",
       "    <tr>\n",
       "      <th>3</th>\n",
       "      <td>95</td>\n",
       "      <td>A</td>\n",
       "    </tr>\n",
       "    <tr>\n",
       "      <th>4</th>\n",
       "      <td>103</td>\n",
       "      <td>A</td>\n",
       "    </tr>\n",
       "  </tbody>\n",
       "</table>\n",
       "</div>"
      ],
      "text/plain": [
       "   expr Therapy\n",
       "0   100       A\n",
       "1    96       A\n",
       "2   101       A\n",
       "3    95       A\n",
       "4   103       A"
      ]
     },
     "execution_count": 141,
     "metadata": {},
     "output_type": "execute_result"
    }
   ],
   "source": [
    "df.head()"
   ]
  },
  {
   "cell_type": "code",
   "execution_count": 142,
   "metadata": {},
   "outputs": [],
   "source": [
    "therapy_A_df = df.query(\"Therapy=='A'\")\n",
    "therapy_B_df = df.query(\"Therapy=='B'\")\n",
    "therapy_C_df = df.query(\"Therapy=='C'\")\n",
    "therapy_D_df = df.query(\"Therapy=='D'\")"
   ]
  },
  {
   "cell_type": "code",
   "execution_count": 143,
   "metadata": {},
   "outputs": [
    {
     "data": {
      "image/png": "[encoded data removed]",
      "text/plain": [
       "<Figure size 432x288 with 1 Axes>"
      ]
     },
     "metadata": {
      "needs_background": "light"
     },
     "output_type": "display_data"
    }
   ],
   "source": [
    "ax = sns.boxplot(x='Therapy', y='expr', data=df)"
   ]
  },
  {
   "cell_type": "markdown",
   "metadata": {},
   "source": [
    "H0 - все средние экспрессии групп равны, H1 - хотя бы одна группа имеет стат значимое отличие"
   ]
  },
  {
   "cell_type": "code",
   "execution_count": 144,
   "metadata": {},
   "outputs": [],
   "source": [
    "mean_expr = df.expr.mean() #среднее значение экспрессии по всем группам"
   ]
  },
  {
   "cell_type": "code",
   "execution_count": 145,
   "metadata": {},
   "outputs": [],
   "source": [
    "# общая сумма квадратов (общая изменчивость) - square summ total\n",
    "SST = pow(df.expr - mean_expr, 2).sum()\n",
    "degress_of_freedom = df.expr.size - 1\n",
    "\n",
    "n1, n2 = therapy_A_df.expr.size, therapy_B_df.expr.size\n",
    "n3, n4 = therapy_C_df.expr.size, therapy_D_df.expr.size\n",
    "\n",
    "mean_expr_A = therapy_A_df.expr.mean()\n",
    "mean_expr_B = therapy_B_df.expr.mean()\n",
    "mean_expr_C = therapy_C_df.expr.mean()\n",
    "mean_expr_D = therapy_D_df.expr.mean()\n",
    "\n",
    "# межгрупповая изменчивость - summ of square between groups\n",
    "SSB = n1 * pow(mean_expr_A - mean_expr, 2) + n2 * pow(mean_expr_B - mean_expr, 2) + n3 * pow(mean_expr_C - mean_expr, 2) + n4 * pow(mean_expr_D - mean_expr, 2)\n",
    "df_SSB = 3\n",
    "\n",
    "# внутригрупповая изменчивость - ... within groups\n",
    "SSW = pow(therapy_A_df.expr - mean_expr_A, 2).sum()\\\n",
    "    + pow(therapy_B_df.expr - mean_expr_B, 2).sum()\\\n",
    "    + pow(therapy_C_df.expr - mean_expr_C, 2).sum()\\\n",
    "    + pow(therapy_D_df.expr - mean_expr_D, 2).sum()\n",
    "df_SSW = df.expr.size - 4"
   ]
  },
  {
   "cell_type": "code",
   "execution_count": 146,
   "metadata": {},
   "outputs": [],
   "source": [
    "if SST -( SSB + SSW) < 10e-13 == False:\n",
    "    print('error')"
   ]
  },
  {
   "cell_type": "code",
   "execution_count": 147,
   "metadata": {},
   "outputs": [
    {
     "data": {
      "text/plain": [
       "(560.7166666666667, 1302.2666666666669, 56, 15)"
      ]
     },
     "execution_count": 147,
     "metadata": {},
     "output_type": "execute_result"
    }
   ],
   "source": [
    "SSB, SSW, df_SSW, therapy_B_df.expr.size"
   ]
  },
  {
   "cell_type": "code",
   "execution_count": 148,
   "metadata": {},
   "outputs": [],
   "source": [
    "# межгрупповой и внутригрупповой средние квадраты\n",
    "MS_bg = SSB / df_SSB\n",
    "MS_wg = SSW / df_SSW\n",
    "\n",
    "# критерий Фишера\n",
    "F_value = MS_bg / MS_wg"
   ]
  },
  {
   "cell_type": "code",
   "execution_count": 149,
   "metadata": {},
   "outputs": [
    {
     "data": {
      "text/plain": [
       "8.037302481143987"
      ]
     },
     "execution_count": 149,
     "metadata": {},
     "output_type": "execute_result"
    }
   ],
   "source": [
    "F_value"
   ]
  },
  {
   "cell_type": "code",
   "execution_count": 150,
   "metadata": {},
   "outputs": [],
   "source": [
    "# для 95 % ДИ p-value = 0.002 < 0.05 -> отклоняем H0"
   ]
  },
  {
   "cell_type": "code",
   "execution_count": 151,
   "metadata": {},
   "outputs": [
    {
     "name": "stdout",
     "output_type": "stream",
     "text": [
      "8.03730248114399 0.00015249722895229536\n"
     ]
    }
   ],
   "source": [
    "# вариант с использованием библиотеки scipy\n",
    "import scipy.stats as stats\n",
    "\n",
    "fvalue, pvalue = stats.f_oneway(therapy_A_df.expr, therapy_B_df.expr, therapy_C_df.expr, therapy_D_df.expr)\n",
    "print(fvalue, pvalue)"
   ]
  },
  {
   "cell_type": "markdown",
   "metadata": {},
   "source": [
    "p-value < 0.05 -> отклоняем H0"
   ]
  },
  {
   "cell_type": "code",
   "execution_count": 152,
   "metadata": {},
   "outputs": [
    {
     "data": {
      "text/html": [
       "<div>\n",
       "<style scoped>\n",
       "    .dataframe tbody tr th:only-of-type {\n",
       "        vertical-align: middle;\n",
       "    }\n",
       "\n",
       "    .dataframe tbody tr th {\n",
       "        vertical-align: top;\n",
       "    }\n",
       "\n",
       "    .dataframe thead th {\n",
       "        text-align: right;\n",
       "    }\n",
       "</style>\n",
       "<table border=\"1\" class=\"dataframe\">\n",
       "  <thead>\n",
       "    <tr style=\"text-align: right;\">\n",
       "      <th></th>\n",
       "      <th>sum_sq</th>\n",
       "      <th>df</th>\n",
       "      <th>F</th>\n",
       "      <th>PR(&gt;F)</th>\n",
       "    </tr>\n",
       "  </thead>\n",
       "  <tbody>\n",
       "    <tr>\n",
       "      <th>C(Therapy)</th>\n",
       "      <td>560.716667</td>\n",
       "      <td>3.0</td>\n",
       "      <td>8.037302</td>\n",
       "      <td>0.000152</td>\n",
       "    </tr>\n",
       "    <tr>\n",
       "      <th>Residual</th>\n",
       "      <td>1302.266667</td>\n",
       "      <td>56.0</td>\n",
       "      <td>NaN</td>\n",
       "      <td>NaN</td>\n",
       "    </tr>\n",
       "  </tbody>\n",
       "</table>\n",
       "</div>"
      ],
      "text/plain": [
       "                 sum_sq    df         F    PR(>F)\n",
       "C(Therapy)   560.716667   3.0  8.037302  0.000152\n",
       "Residual    1302.266667  56.0       NaN       NaN"
      ]
     },
     "execution_count": 152,
     "metadata": {},
     "output_type": "execute_result"
    }
   ],
   "source": [
    "# вариант с использованием библиотеки sctatsmodels и таблицей anova\n",
    "import statsmodels.api as sm\n",
    "from statsmodels.formula.api import ols\n",
    "\n",
    "# Ordinary Least Squares (OLS) model\n",
    "model = ols('expr ~ C(Therapy)', data=df).fit()\n",
    "anova_table = sm.stats.anova_lm(model, typ=2)\n",
    "anova_table"
   ]
  },
  {
   "cell_type": "markdown",
   "metadata": {},
   "source": [
    "sum_sq: C(Therapy) - SSB, Residual - SSW\n",
    "\n",
    "df: C(Therapy) - df_SSB, Residual - df_SSW"
   ]
  },
  {
   "cell_type": "code",
   "execution_count": 153,
   "metadata": {},
   "outputs": [],
   "source": [
    "from itertools import zip_longest # for Python 3.x\n",
    "import statistics\n",
    "\n",
    "def grouper(n, iterable, padvalue=None):\n",
    "    \"grouper(3, 'abcdefg', 'x') --> ('a','b','c'), ('d','e','f'), ('g','x','x')\"\n",
    "    return list(zip_longest(*[iter(iterable)]*n, fillvalue=padvalue))"
   ]
  },
  {
   "cell_type": "code",
   "execution_count": 161,
   "metadata": {},
   "outputs": [
    {
     "data": {
      "text/plain": [
       "0.00015"
      ]
     },
     "execution_count": 161,
     "metadata": {},
     "output_type": "execute_result"
    }
   ],
   "source": [
    "# с помощью перестановочного теста\n",
    "\n",
    "#наблюдаемая дисперсия между средними значениями в группах\n",
    "cur_variance = statistics.variance([mean_expr_A, mean_expr_B, mean_expr_C, mean_expr_D])\n",
    "\n",
    "variances = []\n",
    "ind = list(range(df.expr.size))\n",
    "\n",
    "for i in range(100000):\n",
    "    # вынимаем 4 повторные выборки (4 вида терапии) \n",
    "    random.shuffle(ind)\n",
    "    grouped_ind = grouper(int(df.expr.size/4), ind)\n",
    "    grouped_ind = list(map(lambda x: list(x), grouped_ind))\n",
    "    # записываем среднее значение каждой из 4 групп\n",
    "    means = [df.expr[grouped_ind[0]].mean(), df.expr[grouped_ind[1]].mean(), df.expr[grouped_ind[2]].mean(), df.expr[grouped_ind[3]].mean()]\n",
    "    # записываем дисперсию среди средних значений 5 групп\n",
    "    variances.append(statistics.variance(means))\n",
    "\n",
    "    \n",
    "# смотрим какую долю случаев повторно опробованная дисперсия превышала наблюдаемую дисперсию? - это p-value\n",
    "variances = np.array(variances)\n",
    "\n",
    "p_value = len(np.where(variances >=cur_variance)[0]) / len(variances)\n",
    "p_value\n",
    "    \n",
    "# или можем записывать не дисперсию а считать для каждого раза F"
   ]
  },
  {
   "cell_type": "markdown",
   "metadata": {},
   "source": [
    "Значение получилось очень близким к вычисленным раннее. Однако цикл for замедляет работу."
   ]
  },
  {
   "cell_type": "code",
   "execution_count": 259,
   "metadata": {},
   "outputs": [
    {
     "data": {
      "text/plain": [
       "array([[ 3, 43, 36, ..., 59, 55, 19],\n",
       "       [18, 57, 41, ..., 26, 36, 14],\n",
       "       [47, 51, 28, ..., 17, 49, 40],\n",
       "       ...,\n",
       "       [ 4, 53, 32, ...,  6, 24,  8],\n",
       "       [32,  3, 59, ..., 13, 21, 23],\n",
       "       [ 3, 20, 30, ..., 28,  0,  5]])"
      ]
     },
     "execution_count": 259,
     "metadata": {},
     "output_type": "execute_result"
    }
   ],
   "source": [
    "ind = np.arange(df.expr.size) #создать 100000 одинковых массивов\n",
    "ind = np.tile(ind, (100000, 1))\n",
    "np.apply_along_axis(np.random.shuffle,1,ind) \n",
    "#np.apply_along_axis(np.reshape(4, 15), 0, ind)\n",
    "ind"
   ]
  },
  {
   "cell_type": "code",
   "execution_count": 288,
   "metadata": {},
   "outputs": [
    {
     "data": {
      "text/plain": [
       "array([[106, 103, 106, ..., 106,  87, 100],\n",
       "       [101, 100,  91, ...,  98, 106,  96],\n",
       "       [ 98,  90,  98, ..., 106,  96,  99],\n",
       "       ...,\n",
       "       [ 99, 105,  96, ...,  92, 104,  95],\n",
       "       [106,  90,  96, ...,  98,  95,  96],\n",
       "       [ 95,  97,  95, ...,  93,  99,  94]])"
      ]
     },
     "execution_count": 288,
     "metadata": {},
     "output_type": "execute_result"
    }
   ],
   "source": [
    "values = df.expr.values\n",
    "values = np.tile(values, (100000, 1))\n",
    "np.apply_along_axis(np.random.shuffle,1,values)\n",
    "values"
   ]
  },
  {
   "cell_type": "code",
   "execution_count": 285,
   "metadata": {},
   "outputs": [
    {
     "data": {
      "text/plain": [
       "array([[[ 93,  85,  95, ...,  95,  85,  89],\n",
       "        [105,  97,  90, ...,  85, 105,  96],\n",
       "        [ 98, 103, 101, ..., 106, 101,  96],\n",
       "        [ 84,  95,  94, ...,  91,  95,  99]],\n",
       "\n",
       "       [[ 93,  92,  91, ..., 103, 101, 105],\n",
       "        [ 96, 100,  94, ...,  96,  95,  94],\n",
       "        [ 91,  97, 106, ..., 100,  94, 103],\n",
       "        [ 95,  90,  96, ...,  95,  95,  90]],\n",
       "\n",
       "       [[101,  94,  96, ...,  85,  98, 101],\n",
       "        [ 99, 100,  94, ...,  91,  89,  95],\n",
       "        [ 90,  94,  95, ...,  96,  91,  85],\n",
       "        [ 94, 104,  90, ...,  97,  92,  95]],\n",
       "\n",
       "       ...,\n",
       "\n",
       "       [[ 98,  95,  89, ..., 101, 100,  93],\n",
       "        [106,  96,  97, ...,  95, 106,  94],\n",
       "        [ 95,  99,  94, ..., 101,  91, 103],\n",
       "        [100,  97, 100, ..., 105,  91,  84]],\n",
       "\n",
       "       [[100, 105, 107, ...,  95, 100,  97],\n",
       "        [ 95,  92,  95, ...,  91,  91,  98],\n",
       "        [ 85, 101, 100, ...,  92, 100,  95],\n",
       "        [ 97,  99, 103, ...,  98,  95,  84]],\n",
       "\n",
       "       [[ 95,  95,  96, ...,  94,  96,  95],\n",
       "        [ 84,  99,  99, ...,  85, 101,  96],\n",
       "        [105,  91, 107, ..., 105,  91,  97],\n",
       "        [ 94,  92, 103, ...,  90, 106,  96]]])"
      ]
     },
     "execution_count": 285,
     "metadata": {},
     "output_type": "execute_result"
    }
   ],
   "source": [
    "#теперь разбить кажду строку на 4 группы, посчитать в них среднее и дисперсию\n",
    "#values[0].reshape(4, 15)\n",
    "values.reshape(100000, 4, 15)\n",
    "\n",
    "#np.apply_along_axis(np.reshape(4, 15),1,values)"
   ]
  },
  {
   "cell_type": "code",
   "execution_count": 290,
   "metadata": {},
   "outputs": [
    {
     "data": {
      "text/plain": [
       "5779"
      ]
     },
     "execution_count": 290,
     "metadata": {},
     "output_type": "execute_result"
    }
   ],
   "source": [
    "values[0].sum(axis=0)"
   ]
  },
  {
   "cell_type": "code",
   "execution_count": 284,
   "metadata": {},
   "outputs": [
    {
     "name": "stdout",
     "output_type": "stream",
     "text": [
      "[[ 0  1  2  3  4  5]\n",
      " [ 6  7  8  9 10 11]]\n",
      "new\n",
      "[[[ 0  1]\n",
      "  [ 2  3]\n",
      "  [ 4  5]]\n",
      "\n",
      " [[ 6  7]\n",
      "  [ 8  9]\n",
      "  [10 11]]]\n"
     ]
    }
   ],
   "source": [
    "#print(ind[0])\n",
    "#ind[0].reshape(4, 15)\n",
    "a = np.arange(12).reshape((2, 6))\n",
    "print(a)\n",
    "b = a.reshape((2,3,2))\n",
    "print('new')\n",
    "print(b)"
   ]
  },
  {
   "cell_type": "code",
   "execution_count": 22,
   "metadata": {},
   "outputs": [],
   "source": [
    "def get_bootstrap_samples(data, n_samples):\n",
    "    '''Генерирует заданное кол-во (n_samples) выборок, равных по размеру исходной выборке'''\n",
    "    indices = np.random.randint(0, len(data), (n_samples, len(data)))\n",
    "    #print(indices)\n",
    "    samples = data[indices]\n",
    "    return samples"
   ]
  },
  {
   "cell_type": "code",
   "execution_count": 43,
   "metadata": {},
   "outputs": [
    {
     "name": "stdout",
     "output_type": "stream",
     "text": [
      "With set: ['e', 'b']\n"
     ]
    }
   ],
   "source": [
    "set1 = {\"a\", \"b\", \"c\", \"d\", \"e\"}\n",
    "print(\"With set:\", random.sample(set1, 2))"
   ]
  },
  {
   "cell_type": "code",
   "execution_count": 69,
   "metadata": {},
   "outputs": [
    {
     "data": {
      "text/plain": [
       "0    100\n",
       "3     95\n",
       "5     99\n",
       "Name: expr, dtype: int64"
      ]
     },
     "execution_count": 69,
     "metadata": {},
     "output_type": "execute_result"
    }
   ],
   "source": [
    "df.expr[15]\n",
    "listt = [0,3,5, 7, 9]\n",
    "listt = listt[0:3]\n",
    "df.expr[listt]"
   ]
  },
  {
   "cell_type": "code",
   "execution_count": null,
   "metadata": {},
   "outputs": [],
   "source": []
  }
 ],
 "metadata": {
  "kernelspec": {
   "display_name": "Python 3",
   "language": "python",
   "name": "python3"
  },
  "language_info": {
   "codemirror_mode": {
    "name": "ipython",
    "version": 3
   },
   "file_extension": ".py",
   "mimetype": "text/x-python",
   "name": "python",
   "nbconvert_exporter": "python",
   "pygments_lexer": "ipython3",
   "version": "3.8.5"
  }
 },
 "nbformat": 4,
 "nbformat_minor": 4
}
